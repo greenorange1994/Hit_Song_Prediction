{
 "cells": [
  {
   "cell_type": "code",
   "execution_count": 1,
   "metadata": {
    "collapsed": true
   },
   "outputs": [],
   "source": [
    "import pandas as pd\n",
    "import numpy as np"
   ]
  },
  {
   "cell_type": "markdown",
   "metadata": {},
   "source": [
    "## 1. Get the list of songs and their peak positions on hot 100 chart from 2015 to 2016"
   ]
  },
  {
   "cell_type": "code",
   "execution_count": 50,
   "metadata": {
    "collapsed": false
   },
   "outputs": [
    {
     "name": "stdout",
     "output_type": "stream",
     "text": [
      "2016-12-17\n",
      "2016-12-10\n",
      "2016-12-03\n",
      "2016-11-26\n",
      "2016-11-19\n",
      "2016-11-12\n",
      "2016-11-05\n",
      "2016-10-29\n",
      "2016-10-22\n",
      "2016-10-15\n",
      "2016-10-08\n",
      "2016-10-01\n",
      "2016-09-24\n",
      "2016-09-17\n",
      "2016-09-10\n",
      "2016-09-03\n",
      "2016-08-27\n",
      "2016-08-20\n",
      "2016-08-13\n",
      "2016-08-06\n",
      "2016-07-30\n",
      "2016-07-23\n",
      "2016-07-16\n",
      "2016-07-09\n",
      "2016-07-02\n",
      "2016-06-25\n",
      "2016-06-18\n",
      "2016-06-11\n",
      "2016-06-04\n",
      "2016-05-28\n",
      "2016-05-21\n",
      "2016-05-14\n",
      "2016-05-07\n",
      "2016-04-30\n",
      "2016-04-23\n",
      "2016-04-16\n",
      "2016-04-09\n",
      "2016-04-02\n",
      "2016-03-26\n",
      "2016-03-19\n",
      "2016-03-12\n",
      "2016-03-05\n",
      "2016-02-27\n",
      "2016-02-20\n",
      "2016-02-13\n",
      "2016-02-06\n",
      "2016-01-30\n",
      "2016-01-23\n",
      "2016-01-16\n",
      "2016-01-09\n",
      "2016-01-02\n",
      "2015-12-26\n"
     ]
    }
   ],
   "source": [
    "import billboard\n",
    "\n",
    "song_dict = {}\n",
    "song_dict['name'] = []\n",
    "song_dict['peak'] = []\n",
    "chart = billboard.ChartData(name = 'hot-100', date = '2016-12-31')\n",
    "while chart.previousDate:\n",
    "    for track in chart:\n",
    "        if track.title not in song_dict['name']:\n",
    "            song_dict['name'].append(track.title)\n",
    "            song_dict['peak'].append(track.peakPos)\n",
    "    prevDate = chart.previousDate\n",
    "    if int(prevDate.split('-')[0]) < 2016:\n",
    "        break\n",
    "    chart = billboard.ChartData('hot-100', prevDate)\n",
    "    print(chart.previousDate)"
   ]
  },
  {
   "cell_type": "markdown",
   "metadata": {},
   "source": [
    "## 2. Setup spotify API"
   ]
  },
  {
   "cell_type": "code",
   "execution_count": 69,
   "metadata": {
    "collapsed": true
   },
   "outputs": [],
   "source": [
    "import sys\n",
    "import spotipy\n",
    "import spotipy.util as util\n",
    "\n",
    "User = 'Jade Chou'\n",
    "Client_ID = 'cf668bfb160d4d518800653e2d7cb17d'\n",
    "Client_Secret = '93acc85286104390a45fbfcbb2889e5f'\n",
    "URL = 'http://localhost:8888/callback'\n",
    "scope = 'user-read-private user-read-email'\n",
    "token = util.prompt_for_user_token(User,scope, client_id=Client_ID,client_secret=Client_Secret,redirect_uri=URL)\n",
    "sp = spotipy.Spotify(auth = token)"
   ]
  },
  {
   "cell_type": "markdown",
   "metadata": {},
   "source": [
    "## 3. Extract audio features"
   ]
  },
  {
   "cell_type": "code",
   "execution_count": 52,
   "metadata": {
    "collapsed": false
   },
   "outputs": [
    {
     "name": "stdout",
     "output_type": "stream",
     "text": [
      "retrying ...1secs\n",
      "finish 100 songs!\n",
      "retrying ...1secs\n",
      "finish 200 songs!\n",
      "finish 300 songs!\n",
      "finish 400 songs!\n",
      "Cannot find information about Untitled 02 l 06.23.2014..\n",
      "Cannot find information about Untitled 07 l Levitate.\n",
      "finish 500 songs!\n"
     ]
    }
   ],
   "source": [
    "import time\n",
    "\n",
    "info_df = pd.DataFrame.from_dict(song_dict)\n",
    "tracks = info_df['name']\n",
    "drop_lst = []\n",
    "def getID(tracks):\n",
    "    tracksID = []\n",
    "    for i, track in enumerate(tracks):\n",
    "        if i > 0 and i % 100 == 0:\n",
    "            print('finish %d songs!' % i)\n",
    "            time.sleep(10)\n",
    "        result = sp.search(q=track, type='track')\n",
    "        try:\n",
    "            trackID = result['tracks']['items'][0]['id']\n",
    "            tracksID.append(trackID)\n",
    "        except:\n",
    "            print('Cannot find information about %s.' % track)\n",
    "            drop_lst.append(i)\n",
    "    return tracksID, drop_lst\n",
    "tracksID, drop_lst = getID(tracks)\n",
    "prev_drop = len(drop_lst)\n",
    "new_info_df = info_df.drop(drop_lst)\n",
    "\n",
    "num_song = int(np.ceil(len(tracksID)/100))\n",
    "audiofeatures = []\n",
    "for i in range(num_song):\n",
    "    audiofeatures.append(sp.audio_features(tracksID[(100*i):(100*(i+1))]))\n",
    "for lst in audiofeatures[1:]:\n",
    "    audiofeatures[0].extend(lst)\n",
    "tracksFeatures = audiofeatures[0]"
   ]
  },
  {
   "cell_type": "code",
   "execution_count": 53,
   "metadata": {
    "collapsed": false
   },
   "outputs": [],
   "source": [
    "# exception handling\n",
    "for i, feat in enumerate(tracksFeatures):\n",
    "    if feat is None:\n",
    "        drop_lst.append(i)\n",
    "final_info_df = new_info_df.drop(drop_lst[prev_drop:])\n",
    "\n",
    "for i, idx in enumerate(drop_lst):\n",
    "    if i >= prev_drop:\n",
    "        del tracksFeatures[idx-(i-prev_drop)]\n",
    "\n",
    "tracks_df = pd.DataFrame.from_dict(tracksFeatures)\n",
    "tracks_df['name'] = np.array(final_info_df['name'])\n",
    "tracks_df['peak'] = np.array(final_info_df['peak'])\n",
    "tracks_df['hit'] = (tracks_df['peak'] <= 10).astype(int)\n",
    "tracks_df.to_csv('tracks_2016.csv')"
   ]
  },
  {
   "cell_type": "markdown",
   "metadata": {},
   "source": [
    "## 4. Build the model"
   ]
  },
  {
   "cell_type": "code",
   "execution_count": 2,
   "metadata": {
    "collapsed": false
   },
   "outputs": [],
   "source": [
    "from sklearn.model_selection import train_test_split\n",
    "from sklearn.model_selection import KFold\n",
    "from sklearn import ensemble\n",
    "from sklearn.linear_model import LogisticRegression\n",
    "from sklearn.metrics import f1_score\n",
    "import matplotlib.pyplot as plt\n",
    "\n",
    "tracks_df_3yr = pd.read_csv('tracks_up_2014-2016.csv')\n",
    "tracks_df_2yr = pd.read_csv('tracks_up_2015-2016.csv')\n",
    "tracks_df_1yr = pd.read_csv('tracks_up_2016.csv')"
   ]
  },
  {
   "cell_type": "code",
   "execution_count": 25,
   "metadata": {
    "collapsed": false
   },
   "outputs": [],
   "source": [
    "train_df_1 = pd.read_csv('tracks_up_2014.csv')\n",
    "train_df_2_1 = pd.read_csv('tracks_up_2015.csv')\n",
    "train_df_2_2 = pd.read_csv('tracks_up_2014-2015.csv')\n",
    "\n",
    "test_df_1 = pd.read_csv('test_2015.csv')\n",
    "test_df_2 = pd.read_csv('test_2016.csv')\n",
    "test_df_3 = pd.read_csv('test_2017.csv')"
   ]
  },
  {
   "cell_type": "markdown",
   "metadata": {},
   "source": [
    "### 1) Deal with missing values"
   ]
  },
  {
   "cell_type": "code",
   "execution_count": 26,
   "metadata": {
    "collapsed": false
   },
   "outputs": [
    {
     "data": {
      "text/plain": [
       "Unnamed: 0          0\n",
       "acousticness        0\n",
       "danceability        0\n",
       "duration_ms         0\n",
       "energy              0\n",
       "instrumentalness    0\n",
       "liveness            0\n",
       "loudness            0\n",
       "mode                0\n",
       "speechiness         0\n",
       "tempo               0\n",
       "valence             0\n",
       "key                 0\n",
       "time_signature      0\n",
       "Class               0\n",
       "dtype: int64"
      ]
     },
     "execution_count": 26,
     "metadata": {},
     "output_type": "execute_result"
    }
   ],
   "source": [
    "np.sum(tracks_df_1yr.isnull(), 0)"
   ]
  },
  {
   "cell_type": "markdown",
   "metadata": {},
   "source": [
    "Since there are two songs with missing features, we can just delete these two songs."
   ]
  },
  {
   "cell_type": "markdown",
   "metadata": {},
   "source": [
    "### 2) Deal with unbalanced data - upsampling\n",
    "Use \"caret\" package in R"
   ]
  },
  {
   "cell_type": "markdown",
   "metadata": {},
   "source": [
    "### 3) Feature Selection - GBDT"
   ]
  },
  {
   "cell_type": "code",
   "execution_count": 27,
   "metadata": {
    "collapsed": false
   },
   "outputs": [],
   "source": [
    "tracks_df_up = tracks_df_1yr.sample(frac=1)\n",
    "X = tracks_df_up[['acousticness', 'danceability', 'duration_ms', 'energy', \n",
    "                'instrumentalness', 'liveness', 'loudness', 'mode', \n",
    "                'speechiness', 'tempo', 'valence', 'key', 'time_signature']]\n",
    "y = tracks_df_up['Class']\n",
    "kf = KFold(n_splits=5)\n",
    "kf.get_n_splits(X)\n",
    "f1_lst = []\n",
    "learning_lst = [0.001, 0.01, 0.1, 0.2, 0.3, 0.4, 0.5, 0.6, 0.7, 0.8, 0.9, 1.0]\n",
    "new_learning_lst = [0.5, 0.6, 0.7]\n",
    "estimator_lst = [10, 20, 30, 40, 50, 60, 70, 80, 90, 100]\n",
    "new_estimator_lst = [80, 90, 100]\n",
    "best_f1 = float('-inf')"
   ]
  },
  {
   "cell_type": "markdown",
   "metadata": {},
   "source": [
    "#### (1) Leanring Rate"
   ]
  },
  {
   "cell_type": "code",
   "execution_count": 17,
   "metadata": {
    "collapsed": false
   },
   "outputs": [
    {
     "name": "stdout",
     "output_type": "stream",
     "text": [
      "When learning_rate = 0.0 F1: 0.7107\n",
      "When learning_rate = 0.0 F1: 0.7728\n",
      "When learning_rate = 0.1 F1: 0.8154\n",
      "When learning_rate = 0.2 F1: 0.8405\n",
      "When learning_rate = 0.3 F1: 0.8563\n",
      "When learning_rate = 0.4 F1: 0.8643\n",
      "When learning_rate = 0.5 F1: 0.8694\n",
      "When learning_rate = 0.6 F1: 0.8743\n",
      "When learning_rate = 0.7 F1: 0.8793\n",
      "When learning_rate = 0.8 F1: 0.8817\n",
      "When learning_rate = 0.9 F1: 0.8842\n",
      "When learning_rate = 1.0 F1: 0.8840\n"
     ]
    }
   ],
   "source": [
    "for rate in learning_lst:\n",
    "    for train_index, test_index in kf.split(X):\n",
    "        X_train, X_test = X.iloc[train_index], X.iloc[test_index]\n",
    "        y_train, y_test = y.iloc[train_index], y.iloc[test_index]\n",
    "        gbdt = ensemble.GradientBoostingClassifier(learning_rate = rate)\n",
    "        gbdt.fit(X_train, y_train)\n",
    "        pred = gbdt.predict(X_test)\n",
    "        f1 = f1_score(y_test, pred)\n",
    "        f1_lst.append(f1)\n",
    "    avg_f1 = np.mean(f1_lst)\n",
    "    print('When learning_rate = %.1f F1: %.4f' % (rate, avg_f1))\n",
    "    if avg_f1 > best_f1:\n",
    "        best_f1 = avg_f1\n",
    "        best_rate = rate"
   ]
  },
  {
   "cell_type": "markdown",
   "metadata": {},
   "source": [
    "#### (2) n_estimators"
   ]
  },
  {
   "cell_type": "code",
   "execution_count": 19,
   "metadata": {
    "collapsed": false
   },
   "outputs": [
    {
     "name": "stdout",
     "output_type": "stream",
     "text": [
      "When learning_rate = 10.0 F1: 0.7896\n",
      "When learning_rate = 20.0 F1: 0.8248\n",
      "When learning_rate = 30.0 F1: 0.8393\n",
      "When learning_rate = 40.0 F1: 0.8484\n",
      "When learning_rate = 50.0 F1: 0.8554\n",
      "When learning_rate = 60.0 F1: 0.8625\n",
      "When learning_rate = 70.0 F1: 0.8682\n",
      "When learning_rate = 80.0 F1: 0.8720\n",
      "When learning_rate = 90.0 F1: 0.8753\n",
      "When learning_rate = 100.0 F1: 0.8784\n"
     ]
    }
   ],
   "source": [
    "for n in estimator_lst:\n",
    "    for train_index, test_index in kf.split(X):\n",
    "        X_train, X_test = X.iloc[train_index], X.iloc[test_index]\n",
    "        y_train, y_test = y.iloc[train_index], y.iloc[test_index]\n",
    "        gbdt = ensemble.GradientBoostingClassifier(n_estimators = n)\n",
    "        gbdt.fit(X_train, y_train)\n",
    "        pred = gbdt.predict(X_test)\n",
    "        f1 = f1_score(y_test, pred)\n",
    "        f1_lst.append(f1)\n",
    "    avg_f1 = np.mean(f1_lst)\n",
    "    print('When learning_rate = %.1f F1: %.4f' % (n, avg_f1))\n",
    "    if avg_f1 > best_f1:\n",
    "        best_f1 = avg_f1\n",
    "        best_estimator = n"
   ]
  },
  {
   "cell_type": "markdown",
   "metadata": {},
   "source": [
    "#### (3) Tunning Together"
   ]
  },
  {
   "cell_type": "code",
   "execution_count": 20,
   "metadata": {
    "collapsed": false
   },
   "outputs": [
    {
     "name": "stdout",
     "output_type": "stream",
     "text": [
      "When learning_rate = 0.5 n_estimators = 80.0, F1: 0.8802\n",
      "When learning_rate = 0.6 n_estimators = 80.0, F1: 0.8799\n",
      "When learning_rate = 0.7 n_estimators = 80.0, F1: 0.8805\n",
      "When learning_rate = 0.5 n_estimators = 90.0, F1: 0.8818\n",
      "When learning_rate = 0.6 n_estimators = 90.0, F1: 0.8815\n",
      "When learning_rate = 0.7 n_estimators = 90.0, F1: 0.8823\n",
      "When learning_rate = 0.5 n_estimators = 100.0, F1: 0.8830\n",
      "When learning_rate = 0.6 n_estimators = 100.0, F1: 0.8835\n",
      "When learning_rate = 0.7 n_estimators = 100.0, F1: 0.8839\n"
     ]
    }
   ],
   "source": [
    "best_f1 = float('-inf')\n",
    "for n in new_estimator_lst:\n",
    "    for rate in new_learning_lst:\n",
    "        for train_index, test_index in kf.split(X):\n",
    "            X_train, X_test = X.iloc[train_index], X.iloc[test_index]\n",
    "            y_train, y_test = y.iloc[train_index], y.iloc[test_index]\n",
    "            gbdt = ensemble.GradientBoostingClassifier(n_estimators = n, learning_rate = rate)\n",
    "            gbdt.fit(X_train, y_train)\n",
    "            pred = gbdt.predict(X_test)\n",
    "            f1 = f1_score(y_test, pred)\n",
    "            f1_lst.append(f1)\n",
    "        avg_f1 = np.mean(f1_lst)\n",
    "        print('When learning_rate = %.1f n_estimators = %.1f, F1: %.4f' % (rate, n, avg_f1))\n",
    "        if avg_f1 > best_f1:\n",
    "            best_f1 = avg_f1\n",
    "            best_estimator = n\n",
    "            best_rate = rate"
   ]
  },
  {
   "cell_type": "code",
   "execution_count": 28,
   "metadata": {
    "collapsed": false
   },
   "outputs": [
    {
     "data": {
      "text/plain": [
       "GradientBoostingClassifier(criterion='friedman_mse', init=None,\n",
       "              learning_rate=0.6, loss='deviance', max_depth=3,\n",
       "              max_features=None, max_leaf_nodes=None,\n",
       "              min_impurity_split=1e-07, min_samples_leaf=1,\n",
       "              min_samples_split=2, min_weight_fraction_leaf=0.0,\n",
       "              n_estimators=90, presort='auto', random_state=None,\n",
       "              subsample=1.0, verbose=0, warm_start=False)"
      ]
     },
     "execution_count": 28,
     "metadata": {},
     "output_type": "execute_result"
    }
   ],
   "source": [
    "gbdt = ensemble.GradientBoostingClassifier(learning_rate = 0.6, n_estimators = 90)\n",
    "gbdt.fit(X, y)"
   ]
  },
  {
   "cell_type": "code",
   "execution_count": 30,
   "metadata": {
    "collapsed": false
   },
   "outputs": [
    {
     "name": "stdout",
     "output_type": "stream",
     "text": [
      "F1: 0.1364\n"
     ]
    }
   ],
   "source": [
    "tracks_df_up = pd.read_csv('tracks_up_2017.csv')\n",
    "tracks_df_up = tracks_df_up.sample(frac=1)\n",
    "X_test = tracks_df_up[['acousticness', 'danceability', 'duration_ms', 'energy', \n",
    "                'instrumentalness', 'liveness', 'loudness', 'mode', \n",
    "                'speechiness', 'tempo', 'valence', 'key', 'time_signature']]\n",
    "y_test = tracks_df_up['Class']\n",
    "y_pred = gbdt.predict(X_test)\n",
    "f1 = f1_score(y_test, y_pred)\n",
    "print('F1: %.4f' % f1)"
   ]
  },
  {
   "cell_type": "code",
   "execution_count": 59,
   "metadata": {
    "collapsed": false
   },
   "outputs": [
    {
     "data": {
      "text/plain": [
       "<matplotlib.figure.Figure at 0x1d43b340c50>"
      ]
     },
     "metadata": {},
     "output_type": "display_data"
    },
    {
     "data": {
      "image/png": "[encoded data removed]",
      "text/plain": [
       "<matplotlib.figure.Figure at 0x1d43c046358>"
      ]
     },
     "metadata": {},
     "output_type": "display_data"
    }
   ],
   "source": [
    "plt.rcdefaults()\n",
    "fig, ax = plt.subplots()\n",
    "\n",
    "importance = gbdt.feature_importances_\n",
    "variable = X.columns.values\n",
    "x_variable = np.arange(len(variable))\n",
    "\n",
    "ax.barh(x_variable, importance, color = 'blue', ecolor = 'black')\n",
    "ax.set_yticks(x_variable)\n",
    "ax.set_yticklabels(variable)\n",
    "ax.invert_yaxis()\n",
    "ax.set_xlabel('Feature Importance')\n",
    "ax.set_title('The feature importance for prediction of hit song')\n",
    "\n",
    "plt.show()\n",
    "plt.gcf().clear()"
   ]
  },
  {
   "cell_type": "markdown",
   "metadata": {},
   "source": [
    "### 4) Final classifier"
   ]
  },
  {
   "cell_type": "code",
   "execution_count": 67,
   "metadata": {
    "collapsed": false
   },
   "outputs": [
    {
     "name": "stdout",
     "output_type": "stream",
     "text": [
      "Best learning_rate is 0.6, F1: 0.8972\n"
     ]
    }
   ],
   "source": [
    "tracks_df_up = pd.read_csv('tracks_up_2016.csv')\n",
    "tracks_df_up = tracks_df_up.sample(frac=1)\n",
    "X = tracks_df_up[['acousticness', 'danceability', 'duration_ms', 'energy', \n",
    "                'instrumentalness', 'liveness', 'loudness', 'mode',\n",
    "                'speechiness', 'tempo', 'valence', 'key']]\n",
    "y = tracks_df_up['Class']\n",
    "gbdt = ensemble.GradientBoostingClassifier(learning_rate = 0.6, n_estimators = 90)\n",
    "gbdt.fit(X, y)\n",
    "\n",
    "tracks_df_up = pd.read_csv('tracks_up_2017.csv')\n",
    "tracks_df_up = tracks_df_up.sample(frac=1)\n",
    "X_test = tracks_df_up[['acousticness', 'danceability', 'duration_ms', 'energy', \n",
    "                'instrumentalness', 'liveness', 'loudness', 'mode',\n",
    "                'speechiness', 'tempo', 'valence', 'key']]\n",
    "y_test = tracks_df_up['Class']\n",
    "y_pred = gbdt.predict(X_test)\n",
    "f1 = f1_score(y_test, y_pred)\n",
    "print('Best learning_rate is %.1f, F1: %.4f' % (0.6, f1))"
   ]
  },
  {
   "cell_type": "code",
   "execution_count": 48,
   "metadata": {
    "collapsed": false
   },
   "outputs": [
    {
     "name": "stdout",
     "output_type": "stream",
     "text": [
      "F1: 0.5455\n",
      "F1: 0.2500\n",
      "F1: 0.7500\n",
      "F1: 0.6000\n",
      "F1: 0.5217\n"
     ]
    },
    {
     "data": {
      "text/plain": [
       "0.53343873517786566"
      ]
     },
     "execution_count": 48,
     "metadata": {},
     "output_type": "execute_result"
    }
   ],
   "source": [
    "kf = KFold(n_splits=5)\n",
    "kf.get_n_splits(X)\n",
    "f1_lst = []\n",
    "for train_index, test_index in kf.split(X):\n",
    "    X_train, X_test = X.iloc[train_index], X.iloc[test_index]\n",
    "    y_train, y_test = y.iloc[train_index], y.iloc[test_index]\n",
    "    lr = LogisticRegression()\n",
    "    lr.fit(X_train, y_train)\n",
    "    pred = lr.predict(X_test)\n",
    "    f1 = f1_score(y_test, pred)\n",
    "    print('F1: %.4f' % f1)\n",
    "    f1_lst.append(f1)\n",
    "np.mean(f1_lst)"
   ]
  },
  {
   "cell_type": "markdown",
   "metadata": {},
   "source": [
    "### 5. Test\n",
    "You can test any song you like here."
   ]
  },
  {
   "cell_type": "code",
   "execution_count": 71,
   "metadata": {
    "collapsed": false
   },
   "outputs": [
    {
     "name": "stderr",
     "output_type": "stream",
     "text": [
      "C:\\Users\\green\\Anaconda3\\lib\\site-packages\\sklearn\\utils\\validation.py:395: DeprecationWarning: Passing 1d arrays as data is deprecated in 0.17 and will raise ValueError in 0.19. Reshape your data either using X.reshape(-1, 1) if your data has a single feature or X.reshape(1, -1) if it contains a single sample.\n",
      "  DeprecationWarning)\n"
     ]
    },
    {
     "data": {
      "text/plain": [
       "array([1], dtype=int64)"
      ]
     },
     "execution_count": 71,
     "metadata": {},
     "output_type": "execute_result"
    }
   ],
   "source": [
    "test_ID, drop_lst = getID([\"Look What You Made Me Do\"])\n",
    "test = sp.audio_features(test_ID)[0]\n",
    "X = pd.Series(test)[['acousticness', 'danceability', 'duration_ms', 'energy', \n",
    "                'instrumentalness', 'liveness', 'loudness', 'mode',\n",
    "                'speechiness', 'tempo', 'valence', 'key']]\n",
    "gbdt.predict(X)"
   ]
  }
 ],
 "metadata": {
  "anaconda-cloud": {},
  "kernelspec": {
   "display_name": "Python [default]",
   "language": "python",
   "name": "python3"
  },
  "language_info": {
   "codemirror_mode": {
    "name": "ipython",
    "version": 3
   },
   "file_extension": ".py",
   "mimetype": "text/x-python",
   "name": "python",
   "nbconvert_exporter": "python",
   "pygments_lexer": "ipython3",
   "version": "3.5.2"
  }
 },
 "nbformat": 4,
 "nbformat_minor": 1
}
